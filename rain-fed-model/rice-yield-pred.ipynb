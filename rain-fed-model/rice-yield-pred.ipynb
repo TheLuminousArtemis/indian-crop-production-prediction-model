{
 "cells": [
  {
   "cell_type": "code",
   "execution_count": null,
   "metadata": {},
   "outputs": [],
   "source": [
    "import numpy as np\n",
    "from sklearn.linear_model import LinearRegression\n",
    "import matplotlib.pyplot as plt\n",
    "from sklearn.metrics import r2_score, mean_squared_error\n",
    "from sklearn.preprocessing import MinMaxScaler"
   ]
  },
  {
   "cell_type": "code",
   "execution_count": null,
   "metadata": {},
   "outputs": [],
   "source": [
    "#Precipitation Data\n",
    "precipitation_data = [629.6018181818182, 616.7536363636364, 539.4481818181818, 770.3954545454545, 518.75, 733.891818181818,\n",
    "                      1060.58, 621.1290909090908, 810.5463636363635, 484.38454545454545, 739.12, 879.2745454545454,\n",
    "                      770.2409090909091, 764.6790909090909, 839.2654545454546, 905.7327272727273]\n",
    "# Yield data\n",
    "yield_data = [37927.229999999996, 37843.04, 37883.9, 39470.14, 42106.15, 41190.67, 41183.520000000004, 42991.4,\n",
    "              43144.880000000005, 43190.92, 41829.31, 41196.979999999996, 43074.21, 42166.969999999994,\n",
    "              41140.299999999996, 43410.14]"
   ]
  },
  {
   "cell_type": "code",
   "execution_count": null,
   "metadata": {},
   "outputs": [],
   "source": [
    "# Normalize precipitation data\n",
    "precipitation_scaler = MinMaxScaler()\n",
    "precipitation_scaled = precipitation_scaler.fit_transform(np.array(precipitation_data).reshape(-1, 1))"
   ]
  },
  {
   "cell_type": "code",
   "execution_count": null,
   "metadata": {},
   "outputs": [],
   "source": [
    "# Normalize yield data\n",
    "yield_scaler = MinMaxScaler()\n",
    "yield_scaled = yield_scaler.fit_transform(np.array(yield_data).reshape(-1, 1))"
   ]
  },
  {
   "cell_type": "code",
   "execution_count": null,
   "metadata": {},
   "outputs": [],
   "source": [
    "model = LinearRegression()\n",
    "model.fit(precipitation_scaled, yield_scaled)"
   ]
  },
  {
   "cell_type": "code",
   "execution_count": null,
   "metadata": {},
   "outputs": [],
   "source": [
    "yield_predicted = model.predict(precipitation_scaled)"
   ]
  },
  {
   "cell_type": "code",
   "execution_count": null,
   "metadata": {},
   "outputs": [],
   "source": [
    "yield_predicted = yield_scaler.inverse_transform(yield_predicted)\n",
    "yield_actual = yield_scaler.inverse_transform(yield_scaled)"
   ]
  },
  {
   "cell_type": "code",
   "execution_count": null,
   "metadata": {},
   "outputs": [],
   "source": [
    "r2 = r2_score(yield_actual, yield_predicted)"
   ]
  },
  {
   "cell_type": "code",
   "execution_count": null,
   "metadata": {},
   "outputs": [],
   "source": [
    "rmse = np.sqrt(mean_squared_error(yield_actual, yield_predicted))"
   ]
  },
  {
   "cell_type": "code",
   "execution_count": null,
   "metadata": {},
   "outputs": [],
   "source": [
    "print(\"R-squared:\", r2)\n",
    "print(\"Root Mean Square Error:\", rmse)"
   ]
  },
  {
   "cell_type": "code",
   "execution_count": null,
   "metadata": {},
   "outputs": [],
   "source": [
    "plt.scatter(yield_predicted, yield_actual, color='blue', label='Actual Yield')\n",
    "plt.scatter(yield_actual, yield_actual, color='red', label='Predicted Yield')\n",
    "plt.xlabel('Predicted Yield')\n",
    "plt.ylabel('Actual Yield')\n",
    "plt.title('Predicted vs Actual Yield')\n",
    "plt.legend()\n",
    "plt.show()"
   ]
  },
  {
   "cell_type": "code",
   "execution_count": null,
   "metadata": {},
   "outputs": [],
   "source": [
    "plt.scatter(precipitation_data, yield_actual, label='Actual Yield')\n",
    "plt.plot(precipitation_data, yield_predicted, color='red', linewidth=2, label='Predicted Yield')\n",
    "plt.xlabel('Precipitation')\n",
    "plt.ylabel('Yield')\n",
    "plt.title('Predicted vs Actual Yield')\n",
    "plt.legend()\n",
    "plt.show()"
   ]
  }
 ],
 "metadata": {
  "kernelspec": {
   "display_name": "base",
   "language": "python",
   "name": "python3"
  },
  "language_info": {
   "codemirror_mode": {
    "name": "ipython",
    "version": 3
   },
   "file_extension": ".py",
   "mimetype": "text/x-python",
   "name": "python",
   "nbconvert_exporter": "python",
   "pygments_lexer": "ipython3",
   "version": "3.10.9"
  },
  "orig_nbformat": 4
 },
 "nbformat": 4,
 "nbformat_minor": 2
}
