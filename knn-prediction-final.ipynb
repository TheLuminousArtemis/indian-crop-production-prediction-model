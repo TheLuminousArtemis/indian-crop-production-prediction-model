{
 "cells": [
  {
   "cell_type": "code",
   "execution_count": null,
   "metadata": {},
   "outputs": [],
   "source": [
    "import numpy as np\n",
    "import pandas as pd\n",
    "import matplotlib.pyplot as plt\n",
    "import seaborn as sns\n",
    "from sklearn.model_selection import train_test_split\n",
    "from sklearn.neighbors import KNeighborsRegressor\n",
    "from sklearn.metrics import mean_squared_error, r2_score\n"
   ]
  },
  {
   "cell_type": "code",
   "execution_count": null,
   "metadata": {},
   "outputs": [],
   "source": [
    "data = {\n",
    "    'Highest Temperature': [25, 26, 24, 27, 25, 26, 24, 27, 25, 26, 24, 27, 25, 26, 24, 27],\n",
    "    'Lowest Temperature': [10, 12, 11, 13, 10, 12, 11, 13, 10, 12, 11, 13, 10, 12, 11, 13],\n",
    "    'Rainfall': [400, 380, 410, 390, 400, 380, 410, 390, 400, 380, 410, 390, 400, 380, 410, 390],\n",
    "    'Humidity': [60, 62, 58, 63, 60, 62, 58, 63, 60, 62, 58, 63, 60, 62, 58, 63],\n",
    "    'Crop Yield': [2500, 2550, 2450, 2600, 2500, 2550, 2450, 2600, 2500, 2550, 2450, 2600, 2500, 2550, 2450, 2600],\n",
    "    'Irrigation Frequency': [15, 16, 14, 17, 15, 16, 14, 17, 15, 16, 14, 17, 15, 16, 14, 17]\n",
    "}\n",
    "\n",
    "df = pd.DataFrame(data)\n"
   ]
  },
  {
   "cell_type": "code",
   "execution_count": null,
   "metadata": {},
   "outputs": [],
   "source": [
    "X = df.drop('Crop Yield', axis=1)\n",
    "y = df['Crop Yield']\n"
   ]
  },
  {
   "cell_type": "code",
   "execution_count": null,
   "metadata": {},
   "outputs": [],
   "source": [
    "X_train, X_test, y_train, y_test = train_test_split(X, y, test_size=0.2, random_state=42)\n"
   ]
  },
  {
   "cell_type": "code",
   "execution_count": null,
   "metadata": {},
   "outputs": [],
   "source": [
    "k = 5  # Number of neighbors to consider\n",
    "knn = KNeighborsRegressor(n_neighbors=k)\n",
    "knn.fit(X_train, y_train)\n"
   ]
  },
  {
   "cell_type": "code",
   "execution_count": null,
   "metadata": {},
   "outputs": [],
   "source": [
    "y_pred = knn.predict(X_test)\n"
   ]
  },
  {
   "cell_type": "code",
   "execution_count": null,
   "metadata": {},
   "outputs": [],
   "source": [
    "mse = mean_squared_error(y_test, y_pred)\n",
    "r2 = r2_score(y_test, y_pred)\n",
    "\n",
    "print(\"Mean Squared Error:\", mse)\n",
    "print(\"R2 Score:\", r2)\n"
   ]
  },
  {
   "cell_type": "code",
   "execution_count": null,
   "metadata": {},
   "outputs": [],
   "source": [
    "# Combine the test data and predictions into a DataFrame\n",
    "results = pd.DataFrame({'Actual': y_test, 'Predicted': y_pred})\n",
    "\n",
    "# Create a regression plot\n",
    "sns.regplot(x='Actual', y='Predicted', data=results)\n",
    "\n",
    "# Set plot labels\n",
    "plt.xlabel('Actual Crop Yield')\n",
    "plt.ylabel('Predicted Crop Yield')\n",
    "plt.title('Regression Plot')\n",
    "\n",
    "# Show the plot\n",
    "plt.show()\n"
   ]
  },
  {
   "cell_type": "code",
   "execution_count": null,
   "metadata": {},
   "outputs": [],
   "source": [
    "# User input for prediction\n",
    "user_input = {\n",
    "    'Highest Temperature': [25],\n",
    "    'Lowest Temperature': [10],\n",
    "    'Rainfall': [400],\n",
    "    'Humidity': [60],\n",
    "    'Irrigation Frequency': [15]\n",
    "}\n",
    "\n",
    "user_df = pd.DataFrame(user_input)\n",
    "\n",
    "# Predict the crop yield for user input values\n",
    "user_pred = knn.predict(user_df)\n",
    "print(\"Predicted Yield for User Input:\", user_pred[0])"
   ]
  }
 ],
 "metadata": {
  "language_info": {
   "name": "python"
  },
  "orig_nbformat": 4
 },
 "nbformat": 4,
 "nbformat_minor": 2
}
