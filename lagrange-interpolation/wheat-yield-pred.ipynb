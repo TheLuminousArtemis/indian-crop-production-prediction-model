{
 "cells": [
  {
   "cell_type": "code",
   "execution_count": null,
   "metadata": {},
   "outputs": [],
   "source": [
    "import numpy as np\n",
    "import matplotlib.pyplot as plt"
   ]
  },
  {
   "cell_type": "code",
   "execution_count": null,
   "metadata": {},
   "outputs": [],
   "source": [
    "# Actual yield data\n",
    "years = [2000, 2001, 2002, 2003, 2004, 2005, 2006, 2007, 2008, 2009, 2010, 2011, 2012, 2013, 2014, 2015]\n",
    "actual_yield = [48943.87000000001,49734.590000000004,45107.64000000001,45926.46000000001,45378.21,45771.090000000004,45682.0,48919.13999999999,47056.43000000001,47156.369999999995,50422.42999999999,55335.600000000006,51269.17,54178.850000000006,45458.04,49746.61]"
   ]
  },
  {
   "cell_type": "code",
   "execution_count": null,
   "metadata": {},
   "outputs": [],
   "source": [
    "# Function for Lagrange interpolation\n",
    "def lagrange_interpolation(x, years, actual_yield):\n",
    "    n = len(years)\n",
    "    interpolated_yield = 0\n",
    "\n",
    "    for i in range(n):\n",
    "        term = actual_yield[i]\n",
    "        for j in range(n):\n",
    "            if j != i:\n",
    "                term *= (x - years[j]) / (years[i] - years[j])\n",
    "        interpolated_yield += term\n",
    "\n",
    "    return interpolated_yield"
   ]
  },
  {
   "cell_type": "code",
   "execution_count": null,
   "metadata": {},
   "outputs": [],
   "source": [
    "# Predict yield for a specific year\n",
    "predicted_year = 2016\n",
    "predicted_yield = lagrange_interpolation(predicted_year, years, actual_yield)\n",
    "print(f\"Predicted yield for {predicted_year}: {predicted_yield}\")"
   ]
  },
  {
   "cell_type": "code",
   "execution_count": null,
   "metadata": {},
   "outputs": [],
   "source": [
    "# Create arrays for plotting\n",
    "years_arr = np.array(years)\n",
    "actual_yield_arr = np.array(actual_yield)"
   ]
  },
  {
   "cell_type": "code",
   "execution_count": null,
   "metadata": {},
   "outputs": [],
   "source": [
    "# Plotting the subplots\n",
    "fig, axs = plt.subplots(2, 1, figsize=(8, 8))\n",
    "\n",
    "# Plotting the actual yield\n",
    "axs[0].scatter(years_arr, actual_yield_arr, color='blue', label='Actual Yield')\n",
    "axs[0].set_xlabel('Year')\n",
    "axs[0].set_ylabel('Yield')\n",
    "axs[0].set_title('Actual Yield')\n",
    "\n",
    "# Plotting the predicted yield\n",
    "axs[1].scatter(predicted_year, predicted_yield, color='red', label='Predicted Yield')\n",
    "axs[1].set_xlabel('Year')\n",
    "axs[1].set_ylabel('Yield')\n",
    "axs[1].set_title('Predicted Yield')\n",
    "\n",
    "plt.tight_layout()\n",
    "plt.show()"
   ]
  }
 ],
 "metadata": {
  "kernelspec": {
   "display_name": "base",
   "language": "python",
   "name": "python3"
  },
  "language_info": {
   "codemirror_mode": {
    "name": "ipython",
    "version": 3
   },
   "file_extension": ".py",
   "mimetype": "text/x-python",
   "name": "python",
   "nbconvert_exporter": "python",
   "pygments_lexer": "ipython3",
   "version": "3.10.9"
  },
  "orig_nbformat": 4
 },
 "nbformat": 4,
 "nbformat_minor": 2
}
