{
 "cells": [
  {
   "cell_type": "code",
   "execution_count": null,
   "metadata": {},
   "outputs": [],
   "source": [
    "import numpy as np\n",
    "import pandas as pd"
   ]
  },
  {
   "cell_type": "code",
   "execution_count": null,
   "metadata": {},
   "outputs": [],
   "source": [
    "df_preci = pd.read_csv('Precipitation.csv')\n",
    "df_yield = pd.read_csv('Yield.csv')"
   ]
  },
  {
   "cell_type": "code",
   "execution_count": null,
   "metadata": {},
   "outputs": [],
   "source": [
    "df_preci.head()"
   ]
  },
  {
   "cell_type": "code",
   "execution_count": null,
   "metadata": {},
   "outputs": [],
   "source": [
    "df_preci.columns"
   ]
  },
  {
   "cell_type": "code",
   "execution_count": null,
   "metadata": {},
   "outputs": [],
   "source": [
    "df_preci.drop(['State Code','State Name'],axis=1, inplace=True)"
   ]
  },
  {
   "cell_type": "code",
   "execution_count": null,
   "metadata": {},
   "outputs": [],
   "source": [
    "df_preci.head()"
   ]
  },
  {
   "cell_type": "code",
   "execution_count": null,
   "metadata": {},
   "outputs": [],
   "source": [
    "df_preci['avg_preci'] = df_preci.iloc[:,3:-1].mean(axis=1)"
   ]
  },
  {
   "cell_type": "code",
   "execution_count": null,
   "metadata": {},
   "outputs": [],
   "source": [
    "df_preci.head()"
   ]
  },
  {
   "cell_type": "code",
   "execution_count": null,
   "metadata": {},
   "outputs": [],
   "source": [
    "df_preci.drop(['JANUARY PERCIPITATION (Millimeters)',\n",
    "       'FEBRUARY PERCIPITATION (Millimeters)',\n",
    "       'MARCH PERCIPITATION (Millimeters)',\n",
    "       'APRIL PERCIPITATION (Millimeters)', 'MAY PERCIPITATION (Millimeters)',\n",
    "       'JUNE PERCIPITATION (Millimeters)', 'JULY PERCIPITATION (Millimeters)',\n",
    "       'AUGUST PERCIPITATION (Millimeters)',\n",
    "       'SEPTEMBER PERCIPITATION (Millimeters)',\n",
    "       'OCTOBER PERCIPITATION (Millimeters)',\n",
    "       'NOVEMBER PERCIPITATION (Millimeters)',\n",
    "       'DECEMBER PERCIPITATION (Millimeters)'], axis=1, inplace=True)"
   ]
  },
  {
   "cell_type": "code",
   "execution_count": null,
   "metadata": {},
   "outputs": [],
   "source": [
    "df_preci.head()"
   ]
  },
  {
   "cell_type": "code",
   "execution_count": null,
   "metadata": {},
   "outputs": [],
   "source": [
    "df_preci.to_csv('modified_preci.csv',index=False)"
   ]
  },
  {
   "cell_type": "code",
   "execution_count": null,
   "metadata": {},
   "outputs": [],
   "source": [
    "precipitation_2000 = df_preci.loc[df_preci['Year'] == 2000, 'avg_preci'].sum()\n",
    "print(precipitation_2000)"
   ]
  },
  {
   "cell_type": "code",
   "execution_count": null,
   "metadata": {},
   "outputs": [],
   "source": [
    "precipitation_2000 = df_preci.loc[df_preci['Year'] == 2000, 'avg_preci'].sum()\n",
    "precipitation_2001 = df_preci.loc[df_preci['Year'] == 2001, 'avg_preci'].sum()\n",
    "precipitation_2002 = df_preci.loc[df_preci['Year'] == 2002, 'avg_preci'].sum()\n",
    "precipitation_2003 = df_preci.loc[df_preci['Year'] == 2003, 'avg_preci'].sum()\n",
    "precipitation_2004 = df_preci.loc[df_preci['Year'] == 2004, 'avg_preci'].sum()\n",
    "precipitation_2005 = df_preci.loc[df_preci['Year'] == 2005, 'avg_preci'].sum()\n",
    "precipitation_2006 = df_preci.loc[df_preci['Year'] == 2006, 'avg_preci'].sum()\n",
    "precipitation_2007 = df_preci.loc[df_preci['Year'] == 2007, 'avg_preci'].sum()\n",
    "precipitation_2008 = df_preci.loc[df_preci['Year'] == 2008, 'avg_preci'].sum()\n",
    "precipitation_2009 = df_preci.loc[df_preci['Year'] == 2009, 'avg_preci'].sum()\n",
    "precipitation_2010 = df_preci.loc[df_preci['Year'] == 2010, 'avg_preci'].sum()\n",
    "precipitation_2011 = df_preci.loc[df_preci['Year'] == 2011, 'avg_preci'].sum()\n",
    "precipitation_2012 = df_preci.loc[df_preci['Year'] == 2012, 'avg_preci'].sum()\n",
    "precipitation_2013 = df_preci.loc[df_preci['Year'] == 2013, 'avg_preci'].sum()\n",
    "precipitation_2014 = df_preci.loc[df_preci['Year'] == 2014, 'avg_preci'].sum()\n",
    "precipitation_2015 = df_preci.loc[df_preci['Year'] == 2015, 'avg_preci'].sum()\n"
   ]
  },
  {
   "cell_type": "code",
   "execution_count": null,
   "metadata": {},
   "outputs": [],
   "source": [
    "df_yield.head()"
   ]
  },
  {
   "cell_type": "code",
   "execution_count": null,
   "metadata": {},
   "outputs": [],
   "source": [
    "df_yield.columns"
   ]
  },
  {
   "cell_type": "code",
   "execution_count": null,
   "metadata": {},
   "outputs": [],
   "source": [
    "df_yield.rename(columns={'RICE YIELD (Kg per ha)': 'Rice_Yield'}, inplace=True)\n",
    "df_yield.rename(columns={'WHEAT YIELD (Kg per ha)': 'Wheat_Yield'}, inplace=True)"
   ]
  },
  {
   "cell_type": "code",
   "execution_count": null,
   "metadata": {},
   "outputs": [],
   "source": [
    "df_yield.to_csv('modified_yield.csv', index=False)"
   ]
  },
  {
   "cell_type": "code",
   "execution_count": null,
   "metadata": {},
   "outputs": [],
   "source": [
    "# df_yield.loc[df_yield['Year'] == 2000,'Rice_Yield']\n",
    "rice_yield_2000 = df_yield.loc[df_yield['Year'] == 2000, 'Rice_Yield'].sum()\n"
   ]
  },
  {
   "cell_type": "code",
   "execution_count": null,
   "metadata": {},
   "outputs": [],
   "source": [
    "rice_yield_2000 = df_yield.loc[df_yield['Year'] == 2000, 'Rice_Yield'].sum()\n",
    "rice_yield_2001 = df_yield.loc[df_yield['Year'] == 2001, 'Rice_Yield'].sum()\n",
    "rice_yield_2002 = df_yield.loc[df_yield['Year'] == 2002, 'Rice_Yield'].sum()\n",
    "rice_yield_2003 = df_yield.loc[df_yield['Year'] == 2003, 'Rice_Yield'].sum()\n",
    "rice_yield_2004 = df_yield.loc[df_yield['Year'] == 2004, 'Rice_Yield'].sum()\n",
    "rice_yield_2005 = df_yield.loc[df_yield['Year'] == 2005, 'Rice_Yield'].sum()\n",
    "rice_yield_2006 = df_yield.loc[df_yield['Year'] == 2006, 'Rice_Yield'].sum()\n",
    "rice_yield_2007 = df_yield.loc[df_yield['Year'] == 2007, 'Rice_Yield'].sum()\n",
    "rice_yield_2008 = df_yield.loc[df_yield['Year'] == 2008, 'Rice_Yield'].sum()\n",
    "rice_yield_2009 = df_yield.loc[df_yield['Year'] == 2009, 'Rice_Yield'].sum()\n",
    "rice_yield_2010 = df_yield.loc[df_yield['Year'] == 2010, 'Rice_Yield'].sum()\n",
    "rice_yield_2011 = df_yield.loc[df_yield['Year'] == 2011, 'Rice_Yield'].sum()\n",
    "rice_yield_2012 = df_yield.loc[df_yield['Year'] == 2012, 'Rice_Yield'].sum()\n",
    "rice_yield_2013 = df_yield.loc[df_yield['Year'] == 2013, 'Rice_Yield'].sum()\n",
    "rice_yield_2014 = df_yield.loc[df_yield['Year'] == 2014, 'Rice_Yield'].sum()\n",
    "rice_yield_2015 = df_yield.loc[df_yield['Year'] == 2015, 'Rice_Yield'].sum()"
   ]
  },
  {
   "cell_type": "code",
   "execution_count": null,
   "metadata": {},
   "outputs": [],
   "source": [
    "wheat_yield_2000 = df_yield.loc[df_yield['Year'] == 2000, 'Wheat_Yield'].sum()\n",
    "wheat_yield_2001 = df_yield.loc[df_yield['Year'] == 2001, 'Wheat_Yield'].sum()\n",
    "wheat_yield_2002 = df_yield.loc[df_yield['Year'] == 2002, 'Wheat_Yield'].sum()\n",
    "wheat_yield_2003 = df_yield.loc[df_yield['Year'] == 2003, 'Wheat_Yield'].sum()\n",
    "wheat_yield_2004 = df_yield.loc[df_yield['Year'] == 2004, 'Wheat_Yield'].sum()\n",
    "wheat_yield_2005 = df_yield.loc[df_yield['Year'] == 2005, 'Wheat_Yield'].sum()\n",
    "wheat_yield_2006 = df_yield.loc[df_yield['Year'] == 2006, 'Wheat_Yield'].sum()\n",
    "wheat_yield_2007 = df_yield.loc[df_yield['Year'] == 2007, 'Wheat_Yield'].sum()\n",
    "wheat_yield_2008 = df_yield.loc[df_yield['Year'] == 2008, 'Wheat_Yield'].sum()\n",
    "wheat_yield_2009 = df_yield.loc[df_yield['Year'] == 2009, 'Wheat_Yield'].sum()\n",
    "wheat_yield_2010 = df_yield.loc[df_yield['Year'] == 2010, 'Wheat_Yield'].sum()\n",
    "wheat_yield_2011 = df_yield.loc[df_yield['Year'] == 2011, 'Wheat_Yield'].sum()\n",
    "wheat_yield_2012 = df_yield.loc[df_yield['Year'] == 2012, 'Wheat_Yield'].sum()\n",
    "wheat_yield_2013 = df_yield.loc[df_yield['Year'] == 2013, 'Wheat_Yield'].sum()\n",
    "wheat_yield_2014 = df_yield.loc[df_yield['Year'] == 2014, 'Wheat_Yield'].sum()\n",
    "wheat_yield_2015 = df_yield.loc[df_yield['Year'] == 2015, 'Wheat_Yield'].sum()"
   ]
  }
 ],
 "metadata": {
  "kernelspec": {
   "display_name": "base",
   "language": "python",
   "name": "python3"
  },
  "language_info": {
   "codemirror_mode": {
    "name": "ipython",
    "version": 3
   },
   "file_extension": ".py",
   "mimetype": "text/x-python",
   "name": "python",
   "nbconvert_exporter": "python",
   "pygments_lexer": "ipython3",
   "version": "3.10.9"
  },
  "orig_nbformat": 4
 },
 "nbformat": 4,
 "nbformat_minor": 2
}
